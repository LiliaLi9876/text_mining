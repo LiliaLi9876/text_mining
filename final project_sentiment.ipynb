{
 "cells": [
  {
   "cell_type": "code",
   "execution_count": 1,
   "id": "a12e3b25",
   "metadata": {},
   "outputs": [],
   "source": [
    "import pandas as pd\n",
    "\n",
    "data = pd.read_csv('/Users/lilia/Desktop/21FL/Text Mining/archive/Reviews.csv')"
   ]
  },
  {
   "cell_type": "code",
   "execution_count": 2,
   "id": "74609fe4",
   "metadata": {},
   "outputs": [
    {
     "name": "stdout",
     "output_type": "stream",
     "text": [
      "Requirement already satisfied: numpy in /opt/anaconda3/lib/python3.8/site-packages (1.20.1)\n",
      "Requirement already satisfied: pandas in /opt/anaconda3/lib/python3.8/site-packages (1.2.4)\n",
      "Requirement already satisfied: python-dateutil>=2.7.3 in /opt/anaconda3/lib/python3.8/site-packages (from pandas) (2.8.1)\n",
      "Requirement already satisfied: pytz>=2017.3 in /opt/anaconda3/lib/python3.8/site-packages (from pandas) (2021.1)\n",
      "Requirement already satisfied: numpy>=1.16.5 in /opt/anaconda3/lib/python3.8/site-packages (from pandas) (1.20.1)\n",
      "Requirement already satisfied: six>=1.5 in /opt/anaconda3/lib/python3.8/site-packages (from python-dateutil>=2.7.3->pandas) (1.15.0)\n",
      "Requirement already satisfied: nltk in /opt/anaconda3/lib/python3.8/site-packages (3.6.1)\n",
      "Requirement already satisfied: joblib in /opt/anaconda3/lib/python3.8/site-packages (from nltk) (1.0.1)\n",
      "Requirement already satisfied: regex in /opt/anaconda3/lib/python3.8/site-packages (from nltk) (2021.4.4)\n",
      "Requirement already satisfied: click in /opt/anaconda3/lib/python3.8/site-packages (from nltk) (7.1.2)\n",
      "Requirement already satisfied: tqdm in /opt/anaconda3/lib/python3.8/site-packages (from nltk) (4.59.0)\n",
      "Requirement already satisfied: html.parser in /opt/anaconda3/lib/python3.8/site-packages (0.2)\n",
      "Requirement already satisfied: ply in /opt/anaconda3/lib/python3.8/site-packages (from html.parser) (3.11)\n",
      "Requirement already satisfied: pattern3 in /opt/anaconda3/lib/python3.8/site-packages (3.0.0)\n",
      "Requirement already satisfied: feedparser in /opt/anaconda3/lib/python3.8/site-packages (from pattern3) (6.0.8)\n",
      "Requirement already satisfied: cherrypy in /opt/anaconda3/lib/python3.8/site-packages (from pattern3) (18.6.1)\n",
      "Requirement already satisfied: beautifulsoup4 in /opt/anaconda3/lib/python3.8/site-packages (from pattern3) (4.9.3)\n",
      "Requirement already satisfied: pdfminer3k in /opt/anaconda3/lib/python3.8/site-packages (from pattern3) (1.3.4)\n",
      "Requirement already satisfied: pdfminer.six in /opt/anaconda3/lib/python3.8/site-packages (from pattern3) (20211012)\n",
      "Requirement already satisfied: docx in /opt/anaconda3/lib/python3.8/site-packages (from pattern3) (0.2.4)\n",
      "Requirement already satisfied: simplejson in /opt/anaconda3/lib/python3.8/site-packages (from pattern3) (3.17.5)\n",
      "Requirement already satisfied: soupsieve>1.2 in /opt/anaconda3/lib/python3.8/site-packages (from beautifulsoup4->pattern3) (2.2.1)\n",
      "Requirement already satisfied: cheroot>=8.2.1 in /opt/anaconda3/lib/python3.8/site-packages (from cherrypy->pattern3) (8.5.2)\n",
      "Requirement already satisfied: jaraco.collections in /opt/anaconda3/lib/python3.8/site-packages (from cherrypy->pattern3) (3.4.0)\n",
      "Requirement already satisfied: portend>=2.1.1 in /opt/anaconda3/lib/python3.8/site-packages (from cherrypy->pattern3) (3.0.0)\n",
      "Requirement already satisfied: zc.lockfile in /opt/anaconda3/lib/python3.8/site-packages (from cherrypy->pattern3) (2.0)\n",
      "Requirement already satisfied: more-itertools in /opt/anaconda3/lib/python3.8/site-packages (from cherrypy->pattern3) (8.7.0)\n",
      "Requirement already satisfied: six>=1.11.0 in /opt/anaconda3/lib/python3.8/site-packages (from cheroot>=8.2.1->cherrypy->pattern3) (1.15.0)\n",
      "Requirement already satisfied: jaraco.functools in /opt/anaconda3/lib/python3.8/site-packages (from cheroot>=8.2.1->cherrypy->pattern3) (3.4.0)\n",
      "Requirement already satisfied: tempora>=1.8 in /opt/anaconda3/lib/python3.8/site-packages (from portend>=2.1.1->cherrypy->pattern3) (4.1.2)\n",
      "Requirement already satisfied: pytz in /opt/anaconda3/lib/python3.8/site-packages (from tempora>=1.8->portend>=2.1.1->cherrypy->pattern3) (2021.1)\n",
      "Requirement already satisfied: Pillow>=2.0 in /opt/anaconda3/lib/python3.8/site-packages (from docx->pattern3) (8.2.0)\n",
      "Requirement already satisfied: lxml in /opt/anaconda3/lib/python3.8/site-packages (from docx->pattern3) (4.6.3)\n",
      "Requirement already satisfied: sgmllib3k in /opt/anaconda3/lib/python3.8/site-packages (from feedparser->pattern3) (1.0.0)\n",
      "Requirement already satisfied: jaraco.classes in /opt/anaconda3/lib/python3.8/site-packages (from jaraco.collections->cherrypy->pattern3) (3.2.1)\n",
      "Requirement already satisfied: jaraco.text in /opt/anaconda3/lib/python3.8/site-packages (from jaraco.collections->cherrypy->pattern3) (3.6.0)\n",
      "Requirement already satisfied: importlib-resources in /opt/anaconda3/lib/python3.8/site-packages (from jaraco.text->jaraco.collections->cherrypy->pattern3) (5.4.0)\n",
      "Requirement already satisfied: zipp>=3.1.0 in /opt/anaconda3/lib/python3.8/site-packages (from importlib-resources->jaraco.text->jaraco.collections->cherrypy->pattern3) (3.4.1)\n",
      "Requirement already satisfied: cryptography in /opt/anaconda3/lib/python3.8/site-packages (from pdfminer.six->pattern3) (3.4.7)\n",
      "Requirement already satisfied: chardet in /opt/anaconda3/lib/python3.8/site-packages (from pdfminer.six->pattern3) (4.0.0)\n",
      "Requirement already satisfied: cffi>=1.12 in /opt/anaconda3/lib/python3.8/site-packages (from cryptography->pdfminer.six->pattern3) (1.14.5)\n",
      "Requirement already satisfied: pycparser in /opt/anaconda3/lib/python3.8/site-packages (from cffi>=1.12->cryptography->pdfminer.six->pattern3) (2.20)\n",
      "Requirement already satisfied: ply in /opt/anaconda3/lib/python3.8/site-packages (from pdfminer3k->pattern3) (3.11)\n",
      "Requirement already satisfied: setuptools in /opt/anaconda3/lib/python3.8/site-packages (from zc.lockfile->cherrypy->pattern3) (52.0.0.post20210125)\n",
      "Requirement already satisfied: pyLDAvis in /opt/anaconda3/lib/python3.8/site-packages (3.3.1)\n",
      "Requirement already satisfied: pandas>=1.2.0 in /opt/anaconda3/lib/python3.8/site-packages (from pyLDAvis) (1.2.4)\n",
      "Requirement already satisfied: jinja2 in /opt/anaconda3/lib/python3.8/site-packages (from pyLDAvis) (2.11.3)\n",
      "Requirement already satisfied: sklearn in /opt/anaconda3/lib/python3.8/site-packages (from pyLDAvis) (0.0)\n",
      "Requirement already satisfied: setuptools in /opt/anaconda3/lib/python3.8/site-packages (from pyLDAvis) (52.0.0.post20210125)\n",
      "Requirement already satisfied: numpy>=1.20.0 in /opt/anaconda3/lib/python3.8/site-packages (from pyLDAvis) (1.20.1)\n",
      "Requirement already satisfied: numexpr in /opt/anaconda3/lib/python3.8/site-packages (from pyLDAvis) (2.7.3)\n",
      "Requirement already satisfied: future in /opt/anaconda3/lib/python3.8/site-packages (from pyLDAvis) (0.18.2)\n",
      "Requirement already satisfied: scikit-learn in /opt/anaconda3/lib/python3.8/site-packages (from pyLDAvis) (0.24.1)\n",
      "Requirement already satisfied: scipy in /opt/anaconda3/lib/python3.8/site-packages (from pyLDAvis) (1.6.2)\n",
      "Requirement already satisfied: funcy in /opt/anaconda3/lib/python3.8/site-packages (from pyLDAvis) (1.16)\n",
      "Requirement already satisfied: gensim in /opt/anaconda3/lib/python3.8/site-packages (from pyLDAvis) (4.1.2)\n",
      "Requirement already satisfied: joblib in /opt/anaconda3/lib/python3.8/site-packages (from pyLDAvis) (1.0.1)\n",
      "Requirement already satisfied: python-dateutil>=2.7.3 in /opt/anaconda3/lib/python3.8/site-packages (from pandas>=1.2.0->pyLDAvis) (2.8.1)\n",
      "Requirement already satisfied: pytz>=2017.3 in /opt/anaconda3/lib/python3.8/site-packages (from pandas>=1.2.0->pyLDAvis) (2021.1)\n",
      "Requirement already satisfied: six>=1.5 in /opt/anaconda3/lib/python3.8/site-packages (from python-dateutil>=2.7.3->pandas>=1.2.0->pyLDAvis) (1.15.0)\n",
      "Requirement already satisfied: smart-open>=1.8.1 in /opt/anaconda3/lib/python3.8/site-packages (from gensim->pyLDAvis) (5.2.1)\n",
      "Requirement already satisfied: MarkupSafe>=0.23 in /opt/anaconda3/lib/python3.8/site-packages (from jinja2->pyLDAvis) (1.1.1)\n",
      "Requirement already satisfied: threadpoolctl>=2.0.0 in /opt/anaconda3/lib/python3.8/site-packages (from scikit-learn->pyLDAvis) (2.1.0)\n"
     ]
    },
    {
     "name": "stderr",
     "output_type": "stream",
     "text": [
      "[nltk_data] Downloading package stopwords to /Users/lilia/nltk_data...\n",
      "[nltk_data]   Package stopwords is already up-to-date!\n",
      "[nltk_data] Downloading package punkt to /Users/lilia/nltk_data...\n",
      "[nltk_data]   Package punkt is already up-to-date!\n",
      "[nltk_data] Downloading package averaged_perceptron_tagger to\n",
      "[nltk_data]     /Users/lilia/nltk_data...\n",
      "[nltk_data]   Package averaged_perceptron_tagger is already up-to-\n",
      "[nltk_data]       date!\n",
      "[nltk_data] Downloading package wordnet to /Users/lilia/nltk_data...\n",
      "[nltk_data]   Package wordnet is already up-to-date!\n"
     ]
    },
    {
     "name": "stdout",
     "output_type": "stream",
     "text": [
      "Original:   <p>The circus dog in a plissé skirt jumped over Python who wasn't that large, just 3 feet long.</p>\n",
      "Processed:  ['<', 'p', '>', 'The', 'circus', 'dog', 'in', 'a', 'plissé', 'skirt', 'jumped', 'over', 'Python', 'who', 'was', \"n't\", 'that', 'large', ',', 'just', '3', 'feet', 'long.', '<', '/p', '>']\n",
      "Original:   <p>The circus dog in a plissé skirt jumped over Python who wasn't that large, just 3 feet long.</p>\n",
      "Processed:  <p>The circus dog in a plissé skirt jumped over Python who was not that large, just 3 feet long.</p>\n",
      "Original:   <p>The circus dog in a plissé skirt jumped over Python who wasn't that large, just 3 feet long.</p>\n",
      "Processed:  [('<', 'a'), ('p', 'n'), ('>', 'v'), ('the', None), ('circus', 'n'), ('dog', 'n'), ('in', None), ('a', None), ('plissé', 'n'), ('skirt', 'n'), ('jumped', 'v'), ('over', None), ('python', 'n'), ('who', None), ('was', 'v'), (\"n't\", 'r'), ('that', None), ('large', 'a'), (',', None), ('just', 'r'), ('3', None), ('feet', 'n'), ('long.', 'a'), ('<', 'n'), ('/p', 'n'), ('>', 'n')]\n",
      "Original:   <p>The circus dog in a plissé skirt jumped over Python who wasn't that large, just 3 feet long.</p>\n",
      "Processed:  < p > the circus dog in a plissé skirt jump over python who be n't that large , just 3 foot long. < /p >\n",
      "Original:   <p>The circus dog in a plissé skirt jumped over Python who wasn't that large, just 3 feet long.</p>\n",
      "Processed:    p   The circus dog in a plissé skirt jumped over Python who was n t that large   just 3 feet long     p  \n",
      "Original:   <p>The circus dog in a plissé skirt jumped over Python who wasn't that large, just 3 feet long.</p>\n",
      "Processed:  < p > The circus dog plissé skirt jumped Python n't large , 3 feet long. < /p >\n",
      "Original:   <p>The circus dog in a plissé skirt jumped over Python who wasn't that large, just 3 feet long.</p>\n",
      "Processed:  p The circus dog in a plissé skirt jumped over Python who was n't that large just feet long. /p\n",
      "Original:   <p>The circus dog in a plissé skirt jumped over Python who wasn't that large, just 3 feet long.</p>\n",
      "Processed:  The circus dog in a plissé skirt jumped over Python who wasn't that large, just 3 feet long.\n",
      "Original:   <p>The circus dog in a plissé skirt jumped over Python who wasn't that large, just 3 feet long.</p>\n",
      "Processed:  <p>The circus dog in a plisse skirt jumped over Python who wasn't that large, just 3 feet long.</p>\n"
     ]
    }
   ],
   "source": [
    "#packages needed\n",
    "\n",
    "#ignore warnings about future changes in functions as they take too much space\n",
    "import warnings\n",
    "warnings.simplefilter(action='ignore', category=FutureWarning)\n",
    "warnings.filterwarnings(\"ignore\", category=DeprecationWarning)\n",
    "\n",
    "#the module 'sys' allows istalling module from inside Jupyter\n",
    "import sys\n",
    "\n",
    "!{sys.executable} -m pip install numpy\n",
    "import numpy as np \n",
    "\n",
    "!{sys.executable} -m pip install pandas\n",
    "import pandas as pd\n",
    "\n",
    "#Natrual Language ToolKit (NLTK)\n",
    "!{sys.executable} -m pip install nltk\n",
    "import nltk\n",
    "\n",
    "#text normalization function\n",
    "%run ./Text_Normalization_Function.ipynb\n",
    "\n",
    "#ignore warnings about future changes in functions as they take too much space\n",
    "warnings.simplefilter(action='ignore', category=FutureWarning)\n",
    "warnings.filterwarnings(\"ignore\", category=DeprecationWarning)"
   ]
  },
  {
   "cell_type": "markdown",
   "id": "d196f8cc",
   "metadata": {},
   "source": [
    "## Data Cleasing"
   ]
  },
  {
   "cell_type": "code",
   "execution_count": 3,
   "id": "6b32b023",
   "metadata": {
    "scrolled": true
   },
   "outputs": [
    {
     "data": {
      "text/html": [
       "<div>\n",
       "<style scoped>\n",
       "    .dataframe tbody tr th:only-of-type {\n",
       "        vertical-align: middle;\n",
       "    }\n",
       "\n",
       "    .dataframe tbody tr th {\n",
       "        vertical-align: top;\n",
       "    }\n",
       "\n",
       "    .dataframe thead th {\n",
       "        text-align: right;\n",
       "    }\n",
       "</style>\n",
       "<table border=\"1\" class=\"dataframe\">\n",
       "  <thead>\n",
       "    <tr style=\"text-align: right;\">\n",
       "      <th></th>\n",
       "      <th>Id</th>\n",
       "      <th>ProductId</th>\n",
       "      <th>UserId</th>\n",
       "      <th>ProfileName</th>\n",
       "      <th>HelpfulnessNumerator</th>\n",
       "      <th>HelpfulnessDenominator</th>\n",
       "      <th>Score</th>\n",
       "      <th>Time</th>\n",
       "      <th>Summary</th>\n",
       "      <th>Text</th>\n",
       "    </tr>\n",
       "  </thead>\n",
       "  <tbody>\n",
       "    <tr>\n",
       "      <th>0</th>\n",
       "      <td>1</td>\n",
       "      <td>B001E4KFG0</td>\n",
       "      <td>A3SGXH7AUHU8GW</td>\n",
       "      <td>delmartian</td>\n",
       "      <td>1</td>\n",
       "      <td>1</td>\n",
       "      <td>5</td>\n",
       "      <td>2011</td>\n",
       "      <td>Good Quality Dog Food</td>\n",
       "      <td>I have bought several of the Vitality canned d...</td>\n",
       "    </tr>\n",
       "    <tr>\n",
       "      <th>1</th>\n",
       "      <td>2</td>\n",
       "      <td>B00813GRG4</td>\n",
       "      <td>A1D87F6ZCVE5NK</td>\n",
       "      <td>dll pa</td>\n",
       "      <td>0</td>\n",
       "      <td>0</td>\n",
       "      <td>1</td>\n",
       "      <td>2012</td>\n",
       "      <td>Not as Advertised</td>\n",
       "      <td>Product arrived labeled as Jumbo Salted Peanut...</td>\n",
       "    </tr>\n",
       "    <tr>\n",
       "      <th>2</th>\n",
       "      <td>3</td>\n",
       "      <td>B000LQOCH0</td>\n",
       "      <td>ABXLMWJIXXAIN</td>\n",
       "      <td>Natalia Corres \"Natalia Corres\"</td>\n",
       "      <td>1</td>\n",
       "      <td>1</td>\n",
       "      <td>4</td>\n",
       "      <td>2008</td>\n",
       "      <td>\"Delight\" says it all</td>\n",
       "      <td>This is a confection that has been around a fe...</td>\n",
       "    </tr>\n",
       "    <tr>\n",
       "      <th>3</th>\n",
       "      <td>4</td>\n",
       "      <td>B000UA0QIQ</td>\n",
       "      <td>A395BORC6FGVXV</td>\n",
       "      <td>Karl</td>\n",
       "      <td>3</td>\n",
       "      <td>3</td>\n",
       "      <td>2</td>\n",
       "      <td>2011</td>\n",
       "      <td>Cough Medicine</td>\n",
       "      <td>If you are looking for the secret ingredient i...</td>\n",
       "    </tr>\n",
       "    <tr>\n",
       "      <th>4</th>\n",
       "      <td>5</td>\n",
       "      <td>B006K2ZZ7K</td>\n",
       "      <td>A1UQRSCLF8GW1T</td>\n",
       "      <td>Michael D. Bigham \"M. Wassir\"</td>\n",
       "      <td>0</td>\n",
       "      <td>0</td>\n",
       "      <td>5</td>\n",
       "      <td>2012</td>\n",
       "      <td>Great taffy</td>\n",
       "      <td>Great taffy at a great price.  There was a wid...</td>\n",
       "    </tr>\n",
       "  </tbody>\n",
       "</table>\n",
       "</div>"
      ],
      "text/plain": [
       "   Id   ProductId          UserId                      ProfileName  \\\n",
       "0   1  B001E4KFG0  A3SGXH7AUHU8GW                       delmartian   \n",
       "1   2  B00813GRG4  A1D87F6ZCVE5NK                           dll pa   \n",
       "2   3  B000LQOCH0   ABXLMWJIXXAIN  Natalia Corres \"Natalia Corres\"   \n",
       "3   4  B000UA0QIQ  A395BORC6FGVXV                             Karl   \n",
       "4   5  B006K2ZZ7K  A1UQRSCLF8GW1T    Michael D. Bigham \"M. Wassir\"   \n",
       "\n",
       "   HelpfulnessNumerator  HelpfulnessDenominator  Score  Time  \\\n",
       "0                     1                       1      5  2011   \n",
       "1                     0                       0      1  2012   \n",
       "2                     1                       1      4  2008   \n",
       "3                     3                       3      2  2011   \n",
       "4                     0                       0      5  2012   \n",
       "\n",
       "                 Summary                                               Text  \n",
       "0  Good Quality Dog Food  I have bought several of the Vitality canned d...  \n",
       "1      Not as Advertised  Product arrived labeled as Jumbo Salted Peanut...  \n",
       "2  \"Delight\" says it all  This is a confection that has been around a fe...  \n",
       "3         Cough Medicine  If you are looking for the secret ingredient i...  \n",
       "4            Great taffy  Great taffy at a great price.  There was a wid...  "
      ]
     },
     "execution_count": 3,
     "metadata": {},
     "output_type": "execute_result"
    }
   ],
   "source": [
    "from datetime import datetime\n",
    "data[\"Time\"] = data[\"Time\"].map(lambda x : datetime.fromtimestamp(x).year)\n",
    "data.head()"
   ]
  },
  {
   "cell_type": "code",
   "execution_count": 4,
   "id": "9652800a",
   "metadata": {
    "scrolled": true
   },
   "outputs": [],
   "source": [
    "data_2012 = data.loc[data['Time'] == 2012]\n"
   ]
  },
  {
   "cell_type": "code",
   "execution_count": 5,
   "id": "90ee5328",
   "metadata": {},
   "outputs": [
    {
     "data": {
      "text/plain": [
       "(198064, 10)"
      ]
     },
     "execution_count": 5,
     "metadata": {},
     "output_type": "execute_result"
    }
   ],
   "source": [
    "data_2012.shape"
   ]
  },
  {
   "cell_type": "code",
   "execution_count": 6,
   "id": "dc57460d",
   "metadata": {},
   "outputs": [
    {
     "data": {
      "text/html": [
       "<div>\n",
       "<style scoped>\n",
       "    .dataframe tbody tr th:only-of-type {\n",
       "        vertical-align: middle;\n",
       "    }\n",
       "\n",
       "    .dataframe tbody tr th {\n",
       "        vertical-align: top;\n",
       "    }\n",
       "\n",
       "    .dataframe thead th {\n",
       "        text-align: right;\n",
       "    }\n",
       "</style>\n",
       "<table border=\"1\" class=\"dataframe\">\n",
       "  <thead>\n",
       "    <tr style=\"text-align: right;\">\n",
       "      <th></th>\n",
       "      <th>Id</th>\n",
       "      <th>ProductId</th>\n",
       "      <th>UserId</th>\n",
       "      <th>ProfileName</th>\n",
       "      <th>HelpfulnessNumerator</th>\n",
       "      <th>HelpfulnessDenominator</th>\n",
       "      <th>Score</th>\n",
       "      <th>Time</th>\n",
       "      <th>Summary</th>\n",
       "      <th>Text</th>\n",
       "    </tr>\n",
       "  </thead>\n",
       "  <tbody>\n",
       "    <tr>\n",
       "      <th>105948</th>\n",
       "      <td>105949</td>\n",
       "      <td>B0036VE3V2</td>\n",
       "      <td>A19SREUWP7VC98</td>\n",
       "      <td>Carole</td>\n",
       "      <td>0</td>\n",
       "      <td>0</td>\n",
       "      <td>5</td>\n",
       "      <td>2012</td>\n",
       "      <td>Fresh is Best Freeze Dried Chicken Hearts and ...</td>\n",
       "      <td>Seller's Service was excellent and the \"Fresh ...</td>\n",
       "    </tr>\n",
       "    <tr>\n",
       "      <th>476409</th>\n",
       "      <td>476410</td>\n",
       "      <td>B001ELL44A</td>\n",
       "      <td>A36YVX9UNLWJZC</td>\n",
       "      <td>Warren Sensat</td>\n",
       "      <td>1</td>\n",
       "      <td>1</td>\n",
       "      <td>5</td>\n",
       "      <td>2012</td>\n",
       "      <td>Spelt flour</td>\n",
       "      <td>Came as advertised.  We enjoy making and eatin...</td>\n",
       "    </tr>\n",
       "    <tr>\n",
       "      <th>401421</th>\n",
       "      <td>401422</td>\n",
       "      <td>B0049EKZ08</td>\n",
       "      <td>AE9XCPOPW9YIT</td>\n",
       "      <td>Frank</td>\n",
       "      <td>0</td>\n",
       "      <td>0</td>\n",
       "      <td>5</td>\n",
       "      <td>2012</td>\n",
       "      <td>Awesome!!!</td>\n",
       "      <td>This stuff is easy to use and makes the meat t...</td>\n",
       "    </tr>\n",
       "    <tr>\n",
       "      <th>97954</th>\n",
       "      <td>97955</td>\n",
       "      <td>B001RJ9266</td>\n",
       "      <td>A22H0CDHVYMA7B</td>\n",
       "      <td>CottonBallGirl</td>\n",
       "      <td>0</td>\n",
       "      <td>0</td>\n",
       "      <td>5</td>\n",
       "      <td>2012</td>\n",
       "      <td>Emerald Harmony Original Trail Mix</td>\n",
       "      <td>Emerald Harmony Original Trail Mix is great to...</td>\n",
       "    </tr>\n",
       "    <tr>\n",
       "      <th>560285</th>\n",
       "      <td>560286</td>\n",
       "      <td>B002UT92EY</td>\n",
       "      <td>A2DI6BJBHQUEO6</td>\n",
       "      <td>Ron Weible</td>\n",
       "      <td>1</td>\n",
       "      <td>2</td>\n",
       "      <td>1</td>\n",
       "      <td>2012</td>\n",
       "      <td>Blue Buffalo Wilderness Cat Food</td>\n",
       "      <td>I felt that my 13 yr. old Siamese (Lester) wit...</td>\n",
       "    </tr>\n",
       "  </tbody>\n",
       "</table>\n",
       "</div>"
      ],
      "text/plain": [
       "            Id   ProductId          UserId     ProfileName  \\\n",
       "105948  105949  B0036VE3V2  A19SREUWP7VC98          Carole   \n",
       "476409  476410  B001ELL44A  A36YVX9UNLWJZC   Warren Sensat   \n",
       "401421  401422  B0049EKZ08   AE9XCPOPW9YIT           Frank   \n",
       "97954    97955  B001RJ9266  A22H0CDHVYMA7B  CottonBallGirl   \n",
       "560285  560286  B002UT92EY  A2DI6BJBHQUEO6      Ron Weible   \n",
       "\n",
       "        HelpfulnessNumerator  HelpfulnessDenominator  Score  Time  \\\n",
       "105948                     0                       0      5  2012   \n",
       "476409                     1                       1      5  2012   \n",
       "401421                     0                       0      5  2012   \n",
       "97954                      0                       0      5  2012   \n",
       "560285                     1                       2      1  2012   \n",
       "\n",
       "                                                  Summary  \\\n",
       "105948  Fresh is Best Freeze Dried Chicken Hearts and ...   \n",
       "476409                                        Spelt flour   \n",
       "401421                                         Awesome!!!   \n",
       "97954                  Emerald Harmony Original Trail Mix   \n",
       "560285                   Blue Buffalo Wilderness Cat Food   \n",
       "\n",
       "                                                     Text  \n",
       "105948  Seller's Service was excellent and the \"Fresh ...  \n",
       "476409  Came as advertised.  We enjoy making and eatin...  \n",
       "401421  This stuff is easy to use and makes the meat t...  \n",
       "97954   Emerald Harmony Original Trail Mix is great to...  \n",
       "560285  I felt that my 13 yr. old Siamese (Lester) wit...  "
      ]
     },
     "execution_count": 6,
     "metadata": {},
     "output_type": "execute_result"
    }
   ],
   "source": [
    "sample = data_2012.sample(n = 50_000, replace = False, random_state = 1)\n",
    "sample.head()"
   ]
  },
  {
   "cell_type": "code",
   "execution_count": 7,
   "id": "f6997690",
   "metadata": {},
   "outputs": [
    {
     "name": "stderr",
     "output_type": "stream",
     "text": [
      "<ipython-input-7-f24acee934bc>:3: SettingWithCopyWarning: \n",
      "A value is trying to be set on a copy of a slice from a DataFrame.\n",
      "Try using .loc[row_indexer,col_indexer] = value instead\n",
      "\n",
      "See the caveats in the documentation: https://pandas.pydata.org/pandas-docs/stable/user_guide/indexing.html#returning-a-view-versus-a-copy\n",
      "  one_score['Pos/Neg'] = \"negative\"\n",
      "<ipython-input-7-f24acee934bc>:4: SettingWithCopyWarning: \n",
      "A value is trying to be set on a copy of a slice from a DataFrame.\n",
      "Try using .loc[row_indexer,col_indexer] = value instead\n",
      "\n",
      "See the caveats in the documentation: https://pandas.pydata.org/pandas-docs/stable/user_guide/indexing.html#returning-a-view-versus-a-copy\n",
      "  five_score['Pos/Neg'] = \"positive\"\n"
     ]
    },
    {
     "data": {
      "text/html": [
       "<div>\n",
       "<style scoped>\n",
       "    .dataframe tbody tr th:only-of-type {\n",
       "        vertical-align: middle;\n",
       "    }\n",
       "\n",
       "    .dataframe tbody tr th {\n",
       "        vertical-align: top;\n",
       "    }\n",
       "\n",
       "    .dataframe thead th {\n",
       "        text-align: right;\n",
       "    }\n",
       "</style>\n",
       "<table border=\"1\" class=\"dataframe\">\n",
       "  <thead>\n",
       "    <tr style=\"text-align: right;\">\n",
       "      <th></th>\n",
       "      <th>Id</th>\n",
       "      <th>ProductId</th>\n",
       "      <th>UserId</th>\n",
       "      <th>ProfileName</th>\n",
       "      <th>HelpfulnessNumerator</th>\n",
       "      <th>HelpfulnessDenominator</th>\n",
       "      <th>Score</th>\n",
       "      <th>Time</th>\n",
       "      <th>Summary</th>\n",
       "      <th>Text</th>\n",
       "      <th>Pos/Neg</th>\n",
       "    </tr>\n",
       "  </thead>\n",
       "  <tbody>\n",
       "    <tr>\n",
       "      <th>560285</th>\n",
       "      <td>560286</td>\n",
       "      <td>B002UT92EY</td>\n",
       "      <td>A2DI6BJBHQUEO6</td>\n",
       "      <td>Ron Weible</td>\n",
       "      <td>1</td>\n",
       "      <td>2</td>\n",
       "      <td>1</td>\n",
       "      <td>2012</td>\n",
       "      <td>Blue Buffalo Wilderness Cat Food</td>\n",
       "      <td>I felt that my 13 yr. old Siamese (Lester) wit...</td>\n",
       "      <td>negative</td>\n",
       "    </tr>\n",
       "    <tr>\n",
       "      <th>542903</th>\n",
       "      <td>542904</td>\n",
       "      <td>B0032JCJLE</td>\n",
       "      <td>A21UMFZMY3H73U</td>\n",
       "      <td>Bar</td>\n",
       "      <td>0</td>\n",
       "      <td>0</td>\n",
       "      <td>1</td>\n",
       "      <td>2012</td>\n",
       "      <td>Bar</td>\n",
       "      <td>This item was a dissappointment all around! Ve...</td>\n",
       "      <td>negative</td>\n",
       "    </tr>\n",
       "    <tr>\n",
       "      <th>524747</th>\n",
       "      <td>524748</td>\n",
       "      <td>B002DHNIBG</td>\n",
       "      <td>A22AZ4IAJ70E56</td>\n",
       "      <td>bizzween</td>\n",
       "      <td>0</td>\n",
       "      <td>0</td>\n",
       "      <td>1</td>\n",
       "      <td>2012</td>\n",
       "      <td>natural fraud</td>\n",
       "      <td>kashi is an 'all natural' fraud.  although som...</td>\n",
       "      <td>negative</td>\n",
       "    </tr>\n",
       "    <tr>\n",
       "      <th>281681</th>\n",
       "      <td>281682</td>\n",
       "      <td>B007RTR9DS</td>\n",
       "      <td>A3TSQ61MSDNR9P</td>\n",
       "      <td>Raquiyah Kelly</td>\n",
       "      <td>0</td>\n",
       "      <td>2</td>\n",
       "      <td>1</td>\n",
       "      <td>2012</td>\n",
       "      <td>It has what in it?</td>\n",
       "      <td>Omg! Is anyone reading what's in this crap! Mi...</td>\n",
       "      <td>negative</td>\n",
       "    </tr>\n",
       "    <tr>\n",
       "      <th>124918</th>\n",
       "      <td>124919</td>\n",
       "      <td>B005BHIESC</td>\n",
       "      <td>A1ZSE31RSEU9BR</td>\n",
       "      <td>Lora Applegarth</td>\n",
       "      <td>0</td>\n",
       "      <td>1</td>\n",
       "      <td>1</td>\n",
       "      <td>2012</td>\n",
       "      <td>Never again!</td>\n",
       "      <td>I purchased this thinking \"what a great deal!\"...</td>\n",
       "      <td>negative</td>\n",
       "    </tr>\n",
       "  </tbody>\n",
       "</table>\n",
       "</div>"
      ],
      "text/plain": [
       "            Id   ProductId          UserId      ProfileName  \\\n",
       "560285  560286  B002UT92EY  A2DI6BJBHQUEO6       Ron Weible   \n",
       "542903  542904  B0032JCJLE  A21UMFZMY3H73U              Bar   \n",
       "524747  524748  B002DHNIBG  A22AZ4IAJ70E56         bizzween   \n",
       "281681  281682  B007RTR9DS  A3TSQ61MSDNR9P   Raquiyah Kelly   \n",
       "124918  124919  B005BHIESC  A1ZSE31RSEU9BR  Lora Applegarth   \n",
       "\n",
       "        HelpfulnessNumerator  HelpfulnessDenominator  Score  Time  \\\n",
       "560285                     1                       2      1  2012   \n",
       "542903                     0                       0      1  2012   \n",
       "524747                     0                       0      1  2012   \n",
       "281681                     0                       2      1  2012   \n",
       "124918                     0                       1      1  2012   \n",
       "\n",
       "                                 Summary  \\\n",
       "560285  Blue Buffalo Wilderness Cat Food   \n",
       "542903                               Bar   \n",
       "524747                     natural fraud   \n",
       "281681                It has what in it?   \n",
       "124918                      Never again!   \n",
       "\n",
       "                                                     Text   Pos/Neg  \n",
       "560285  I felt that my 13 yr. old Siamese (Lester) wit...  negative  \n",
       "542903  This item was a dissappointment all around! Ve...  negative  \n",
       "524747  kashi is an 'all natural' fraud.  although som...  negative  \n",
       "281681  Omg! Is anyone reading what's in this crap! Mi...  negative  \n",
       "124918  I purchased this thinking \"what a great deal!\"...  negative  "
      ]
     },
     "execution_count": 7,
     "metadata": {},
     "output_type": "execute_result"
    }
   ],
   "source": [
    "one_score = sample.loc[sample['Score'] == 1]\n",
    "five_score = sample.loc[sample['Score'] == 5]\n",
    "one_score['Pos/Neg'] = \"negative\"\n",
    "five_score['Pos/Neg'] = \"positive\"\n",
    "one_five_sample = pd.concat([one_score,five_score])\n",
    "one_five_sample.head()"
   ]
  },
  {
   "cell_type": "code",
   "execution_count": 9,
   "id": "322de17f",
   "metadata": {},
   "outputs": [
    {
     "data": {
      "text/plain": [
       "(5126, 11)"
      ]
     },
     "execution_count": 9,
     "metadata": {},
     "output_type": "execute_result"
    }
   ],
   "source": [
    "one_score.shape"
   ]
  },
  {
   "cell_type": "code",
   "execution_count": 10,
   "id": "25ee43ae",
   "metadata": {},
   "outputs": [
    {
     "data": {
      "text/plain": [
       "(30910, 11)"
      ]
     },
     "execution_count": 10,
     "metadata": {},
     "output_type": "execute_result"
    }
   ],
   "source": [
    "five_score.shape"
   ]
  },
  {
   "cell_type": "code",
   "execution_count": 34,
   "id": "f157d8b6",
   "metadata": {},
   "outputs": [
    {
     "data": {
      "text/plain": [
       "36036"
      ]
     },
     "execution_count": 34,
     "metadata": {},
     "output_type": "execute_result"
    }
   ],
   "source": [
    "one_five_sample_reviews = one_five_sample['Text']\n",
    "len(one_five_sample_reviews)"
   ]
  },
  {
   "cell_type": "code",
   "execution_count": 35,
   "id": "910b97af",
   "metadata": {},
   "outputs": [],
   "source": [
    "score = one_five_sample['Pos/Neg']\n",
    "score_polarity = np.array(score)"
   ]
  },
  {
   "cell_type": "code",
   "execution_count": 36,
   "id": "93f56b95",
   "metadata": {},
   "outputs": [
    {
     "name": "stderr",
     "output_type": "stream",
     "text": [
      "<ipython-input-36-436b094b65fd>:4: SettingWithCopyWarning: \n",
      "A value is trying to be set on a copy of a slice from a DataFrame.\n",
      "Try using .loc[row_indexer,col_indexer] = value instead\n",
      "\n",
      "See the caveats in the documentation: https://pandas.pydata.org/pandas-docs/stable/user_guide/indexing.html#returning-a-view-versus-a-copy\n",
      "  one_score_train['Pos/Neg'] = \"negative\"\n",
      "<ipython-input-36-436b094b65fd>:5: SettingWithCopyWarning: \n",
      "A value is trying to be set on a copy of a slice from a DataFrame.\n",
      "Try using .loc[row_indexer,col_indexer] = value instead\n",
      "\n",
      "See the caveats in the documentation: https://pandas.pydata.org/pandas-docs/stable/user_guide/indexing.html#returning-a-view-versus-a-copy\n",
      "  five_score_train['Pos/Neg'] = \"positive\"\n"
     ]
    },
    {
     "data": {
      "text/html": [
       "<div>\n",
       "<style scoped>\n",
       "    .dataframe tbody tr th:only-of-type {\n",
       "        vertical-align: middle;\n",
       "    }\n",
       "\n",
       "    .dataframe tbody tr th {\n",
       "        vertical-align: top;\n",
       "    }\n",
       "\n",
       "    .dataframe thead th {\n",
       "        text-align: right;\n",
       "    }\n",
       "</style>\n",
       "<table border=\"1\" class=\"dataframe\">\n",
       "  <thead>\n",
       "    <tr style=\"text-align: right;\">\n",
       "      <th></th>\n",
       "      <th>Id</th>\n",
       "      <th>ProductId</th>\n",
       "      <th>UserId</th>\n",
       "      <th>ProfileName</th>\n",
       "      <th>HelpfulnessNumerator</th>\n",
       "      <th>HelpfulnessDenominator</th>\n",
       "      <th>Score</th>\n",
       "      <th>Time</th>\n",
       "      <th>Summary</th>\n",
       "      <th>Text</th>\n",
       "      <th>Pos/Neg</th>\n",
       "    </tr>\n",
       "  </thead>\n",
       "  <tbody>\n",
       "    <tr>\n",
       "      <th>245815</th>\n",
       "      <td>245816</td>\n",
       "      <td>B004OAZ36I</td>\n",
       "      <td>A39970YALPNEZ3</td>\n",
       "      <td>Erin Johnson</td>\n",
       "      <td>1</td>\n",
       "      <td>1</td>\n",
       "      <td>1</td>\n",
       "      <td>2012</td>\n",
       "      <td>Didn't even come in a box</td>\n",
       "      <td>I received 4 of these and they were simply an ...</td>\n",
       "      <td>negative</td>\n",
       "    </tr>\n",
       "    <tr>\n",
       "      <th>205367</th>\n",
       "      <td>205368</td>\n",
       "      <td>B006Z82F7M</td>\n",
       "      <td>AM0S1OTJ9OOGA</td>\n",
       "      <td>purplrodeo69</td>\n",
       "      <td>0</td>\n",
       "      <td>0</td>\n",
       "      <td>1</td>\n",
       "      <td>2012</td>\n",
       "      <td>Not happy</td>\n",
       "      <td>I was not happy with the product. The product ...</td>\n",
       "      <td>negative</td>\n",
       "    </tr>\n",
       "    <tr>\n",
       "      <th>526434</th>\n",
       "      <td>526435</td>\n",
       "      <td>B00375LBNK</td>\n",
       "      <td>A1286MWY9ZAMDN</td>\n",
       "      <td>Ken</td>\n",
       "      <td>0</td>\n",
       "      <td>0</td>\n",
       "      <td>1</td>\n",
       "      <td>2012</td>\n",
       "      <td>Yuk!</td>\n",
       "      <td>Tossed this out after trying it.  Texture and ...</td>\n",
       "      <td>negative</td>\n",
       "    </tr>\n",
       "    <tr>\n",
       "      <th>191623</th>\n",
       "      <td>191624</td>\n",
       "      <td>B002JIHG1M</td>\n",
       "      <td>A12D1KTEGHPDO2</td>\n",
       "      <td>Leckie \"Loyal Amazon Shopper\"</td>\n",
       "      <td>3</td>\n",
       "      <td>3</td>\n",
       "      <td>1</td>\n",
       "      <td>2012</td>\n",
       "      <td>Made in China</td>\n",
       "      <td>Be aware that these treats are made in China. ...</td>\n",
       "      <td>negative</td>\n",
       "    </tr>\n",
       "    <tr>\n",
       "      <th>82827</th>\n",
       "      <td>82828</td>\n",
       "      <td>B005D8TMB2</td>\n",
       "      <td>A2QVGXCTMSVJ6K</td>\n",
       "      <td>Work2Sew</td>\n",
       "      <td>0</td>\n",
       "      <td>0</td>\n",
       "      <td>1</td>\n",
       "      <td>2012</td>\n",
       "      <td>I'm Glad They Added \"IMITATION\" to the Title</td>\n",
       "      <td>I'm glad that they added \"IMITATION\" to the ti...</td>\n",
       "      <td>negative</td>\n",
       "    </tr>\n",
       "  </tbody>\n",
       "</table>\n",
       "</div>"
      ],
      "text/plain": [
       "            Id   ProductId          UserId                    ProfileName  \\\n",
       "245815  245816  B004OAZ36I  A39970YALPNEZ3                   Erin Johnson   \n",
       "205367  205368  B006Z82F7M   AM0S1OTJ9OOGA                   purplrodeo69   \n",
       "526434  526435  B00375LBNK  A1286MWY9ZAMDN                            Ken   \n",
       "191623  191624  B002JIHG1M  A12D1KTEGHPDO2  Leckie \"Loyal Amazon Shopper\"   \n",
       "82827    82828  B005D8TMB2  A2QVGXCTMSVJ6K                       Work2Sew   \n",
       "\n",
       "        HelpfulnessNumerator  HelpfulnessDenominator  Score  Time  \\\n",
       "245815                     1                       1      1  2012   \n",
       "205367                     0                       0      1  2012   \n",
       "526434                     0                       0      1  2012   \n",
       "191623                     3                       3      1  2012   \n",
       "82827                      0                       0      1  2012   \n",
       "\n",
       "                                             Summary  \\\n",
       "245815                     Didn't even come in a box   \n",
       "205367                                     Not happy   \n",
       "526434                                          Yuk!   \n",
       "191623                                 Made in China   \n",
       "82827   I'm Glad They Added \"IMITATION\" to the Title   \n",
       "\n",
       "                                                     Text   Pos/Neg  \n",
       "245815  I received 4 of these and they were simply an ...  negative  \n",
       "205367  I was not happy with the product. The product ...  negative  \n",
       "526434  Tossed this out after trying it.  Texture and ...  negative  \n",
       "191623  Be aware that these treats are made in China. ...  negative  \n",
       "82827   I'm glad that they added \"IMITATION\" to the ti...  negative  "
      ]
     },
     "execution_count": 36,
     "metadata": {},
     "output_type": "execute_result"
    }
   ],
   "source": [
    "train_reviews = data_2012.sample(n = 50_000, replace = False, random_state = 2)\n",
    "one_score_train = train_reviews.loc[train_reviews['Score'] == 1]\n",
    "five_score_train = train_reviews.loc[train_reviews['Score'] == 5]\n",
    "one_score_train['Pos/Neg'] = \"negative\"\n",
    "five_score_train['Pos/Neg'] = \"positive\"\n",
    "one_five_sample_train = pd.concat([one_score_train,five_score_train])\n",
    "one_five_sample_train.head()"
   ]
  },
  {
   "cell_type": "code",
   "execution_count": 37,
   "id": "4cf0b1ea",
   "metadata": {},
   "outputs": [
    {
     "data": {
      "text/plain": [
       "36131"
      ]
     },
     "execution_count": 37,
     "metadata": {},
     "output_type": "execute_result"
    }
   ],
   "source": [
    "one_five_sample_reviews_train = one_five_sample_train['Text']\n",
    "len(one_five_sample_reviews_train)"
   ]
  },
  {
   "cell_type": "code",
   "execution_count": 38,
   "id": "5579e446",
   "metadata": {},
   "outputs": [],
   "source": [
    "score_train = one_five_sample_train['Pos/Neg']\n",
    "score_polarity_train = np.array(score_train)"
   ]
  },
  {
   "cell_type": "markdown",
   "id": "ef414e75",
   "metadata": {},
   "source": [
    "## Sentiment Analysis"
   ]
  },
  {
   "cell_type": "markdown",
   "id": "66cd8d28",
   "metadata": {},
   "source": [
    "### Lexicon"
   ]
  },
  {
   "cell_type": "code",
   "execution_count": 39,
   "id": "2675182f",
   "metadata": {},
   "outputs": [
    {
     "name": "stderr",
     "output_type": "stream",
     "text": [
      "[nltk_data] Downloading package vader_lexicon to\n",
      "[nltk_data]     /Users/ellenliu/nltk_data...\n",
      "[nltk_data]   Package vader_lexicon is already up-to-date!\n"
     ]
    },
    {
     "data": {
      "text/plain": [
       "True"
      ]
     },
     "execution_count": 39,
     "metadata": {},
     "output_type": "execute_result"
    }
   ],
   "source": [
    "nltk.download('vader_lexicon')"
   ]
  },
  {
   "cell_type": "markdown",
   "id": "c08374ff",
   "metadata": {},
   "source": [
    "#### Import the sentiment analysis function SentimentIntensityAnalyzer() that uses the VADER lexicon from the NLTK package. Let's refer to that function as analyzer for short: "
   ]
  },
  {
   "cell_type": "code",
   "execution_count": 40,
   "id": "4f34264a",
   "metadata": {},
   "outputs": [],
   "source": [
    "from nltk.sentiment.vader import SentimentIntensityAnalyzer\n",
    "analyzer = SentimentIntensityAnalyzer()"
   ]
  },
  {
   "cell_type": "code",
   "execution_count": 41,
   "id": "5ff1db11",
   "metadata": {},
   "outputs": [],
   "source": [
    "normalized_one_five_sample_reviews = normalize_corpus(one_five_sample_reviews)"
   ]
  },
  {
   "cell_type": "markdown",
   "id": "0061a994",
   "metadata": {},
   "source": [
    "test"
   ]
  },
  {
   "cell_type": "code",
   "execution_count": 26,
   "id": "5ddda25c",
   "metadata": {},
   "outputs": [
    {
     "name": "stdout",
     "output_type": "stream",
     "text": [
      "I liked the plot of this movie \n",
      "Scores: {'neg': 0.0, 'neu': 0.641, 'pos': 0.359, 'compound': 0.4215} \n",
      "\n"
     ]
    }
   ],
   "source": [
    "text_1a = 'I liked the plot of this movie'\n",
    "print(text_1a, \"\\nScores:\", analyzer.polarity_scores(text_1a),\"\\n\")"
   ]
  },
  {
   "cell_type": "markdown",
   "id": "3171ce0e",
   "metadata": {},
   "source": [
    "#### Define the Scoring Function "
   ]
  },
  {
   "cell_type": "code",
   "execution_count": 42,
   "id": "2a07ec7f",
   "metadata": {},
   "outputs": [],
   "source": [
    "def analyze_sentiment_vader_lexicon(one_five_sample_reviews, threshold = 0.1, verbose = False):\n",
    "    scores = analyzer.polarity_scores(one_five_sample_reviews)  \n",
    "    binary_sentiment = 'positive' if scores['compound'] >= threshold else 'negative'\n",
    "    if verbose:                             \n",
    "        print('VADER Polarity (Binary):', binary_sentiment)\n",
    "        print('VADER Score:', round(scores['compound'], 2))\n",
    "    return binary_sentiment,scores['compound']  "
   ]
  },
  {
   "cell_type": "markdown",
   "id": "5d71e655",
   "metadata": {},
   "source": [
    "test"
   ]
  },
  {
   "cell_type": "code",
   "execution_count": 17,
   "id": "06697d89",
   "metadata": {},
   "outputs": [
    {
     "name": "stdout",
     "output_type": "stream",
     "text": [
      "\n",
      "Review text:\n",
      "\n",
      "item dissappointment around expensive taste awful spongy word good conventional calorie bread item addition taste awful mold quickly despite refrigeration know must freezer happen like frozen bread mold unlike anything ever really gross end toss loaf sans piece gag waste money \n",
      "\n",
      "ACTUAL Polarity (Labeled by Human): negative \n",
      "\n",
      "VADER Polarity (Binary): negative\n",
      "VADER Score: -0.85\n",
      "------------------------------------------------------------\n",
      "\n",
      "Review text:\n",
      "\n",
      "order chocolate febuary went buck almost buck ship price cocoa didnot rise much someone must gotten large raise please bring price earth order otherwise forget \n",
      "\n",
      "ACTUAL Polarity (Labeled by Human): negative \n",
      "\n",
      "VADER Polarity (Binary): positive\n",
      "VADER Score: 0.1\n",
      "------------------------------------------------------------\n"
     ]
    }
   ],
   "source": [
    "sample_docs = [1,50]\n",
    "for doc_index in sample_docs:\n",
    "    print('\\nReview text:\\n')\n",
    "    print(normalized_one_five_sample_reviews[doc_index],\"\\n\")\n",
    "    print('ACTUAL Polarity (Labeled by Human):', score_polarity[doc_index],\"\\n\")    \n",
    "    final_sentiment = analyze_sentiment_vader_lexicon(normalized_one_five_sample_reviews[doc_index],\n",
    "                                                        threshold=0.1,\n",
    "                                                        verbose=True)\n",
    "    print('-'*60)   "
   ]
  },
  {
   "cell_type": "markdown",
   "id": "fb0bd490",
   "metadata": {},
   "source": [
    "see all reviews"
   ]
  },
  {
   "cell_type": "code",
   "execution_count": 43,
   "id": "10c0f248",
   "metadata": {},
   "outputs": [
    {
     "data": {
      "text/html": [
       "<div>\n",
       "<style scoped>\n",
       "    .dataframe tbody tr th:only-of-type {\n",
       "        vertical-align: middle;\n",
       "    }\n",
       "\n",
       "    .dataframe tbody tr th {\n",
       "        vertical-align: top;\n",
       "    }\n",
       "\n",
       "    .dataframe thead th {\n",
       "        text-align: right;\n",
       "    }\n",
       "</style>\n",
       "<table border=\"1\" class=\"dataframe\">\n",
       "  <thead>\n",
       "    <tr style=\"text-align: right;\">\n",
       "      <th></th>\n",
       "      <th>VADER Polarity</th>\n",
       "      <th>VADER Score</th>\n",
       "    </tr>\n",
       "  </thead>\n",
       "  <tbody>\n",
       "    <tr>\n",
       "      <th>0</th>\n",
       "      <td>positive</td>\n",
       "      <td>0.7684</td>\n",
       "    </tr>\n",
       "    <tr>\n",
       "      <th>1</th>\n",
       "      <td>negative</td>\n",
       "      <td>-0.8803</td>\n",
       "    </tr>\n",
       "    <tr>\n",
       "      <th>2</th>\n",
       "      <td>negative</td>\n",
       "      <td>-0.1823</td>\n",
       "    </tr>\n",
       "    <tr>\n",
       "      <th>3</th>\n",
       "      <td>negative</td>\n",
       "      <td>-0.9250</td>\n",
       "    </tr>\n",
       "    <tr>\n",
       "      <th>4</th>\n",
       "      <td>negative</td>\n",
       "      <td>-0.9838</td>\n",
       "    </tr>\n",
       "  </tbody>\n",
       "</table>\n",
       "</div>"
      ],
      "text/plain": [
       "  VADER Polarity  VADER Score\n",
       "0       positive       0.7684\n",
       "1       negative      -0.8803\n",
       "2       negative      -0.1823\n",
       "3       negative      -0.9250\n",
       "4       negative      -0.9838"
      ]
     },
     "execution_count": 43,
     "metadata": {},
     "output_type": "execute_result"
    }
   ],
   "source": [
    "VADER_polarity = [analyze_sentiment_vader_lexicon(review, threshold=0.1) for review in one_five_sample_reviews]\n",
    "VADER_polarity_df = pd.DataFrame(VADER_polarity, columns = ['VADER Polarity','VADER Score'])\n",
    "VADER_polarity_df.head(5)"
   ]
  },
  {
   "cell_type": "markdown",
   "id": "dabd21a4",
   "metadata": {},
   "source": [
    "calculate accuracy rate"
   ]
  },
  {
   "cell_type": "code",
   "execution_count": 44,
   "id": "4d7e7925",
   "metadata": {},
   "outputs": [
    {
     "name": "stdout",
     "output_type": "stream",
     "text": [
      "Accuracy Rate: 0.89 \n",
      "\n"
     ]
    }
   ],
   "source": [
    "from sklearn import metrics\n",
    "print('Accuracy Rate:', np.round(metrics.accuracy_score(score_polarity, \n",
    "                                 VADER_polarity_df['VADER Polarity']), 3),\"\\n\")"
   ]
  },
  {
   "cell_type": "markdown",
   "id": "a99b59bf",
   "metadata": {},
   "source": [
    "### Choose the Treshold "
   ]
  },
  {
   "cell_type": "code",
   "execution_count": 20,
   "id": "a6fd4cf0",
   "metadata": {},
   "outputs": [],
   "source": [
    "def try_threshold_for_accuracy(sentiment_scores, threshold_for_pos):\n",
    "    VADER_binary_polarity = ['positive' if s >= threshold_for_pos else 'negative' for s in list(sentiment_scores)]\n",
    "    accuracy = metrics.accuracy_score(score_polarity, VADER_binary_polarity)\n",
    "    return(accuracy) "
   ]
  },
  {
   "cell_type": "code",
   "execution_count": 22,
   "id": "9f27c506",
   "metadata": {},
   "outputs": [
    {
     "data": {
      "image/png": "[encoded data removed]",
      "text/plain": [
       "<Figure size 432x288 with 1 Axes>"
      ]
     },
     "metadata": {
      "needs_background": "light"
     },
     "output_type": "display_data"
    }
   ],
   "source": [
    "thresholds = np.linspace(-1,1,1000)\n",
    "acc_rates = [try_threshold_for_accuracy(VADER_polarity_df['VADER Score'],threshold) for threshold in thresholds]\n",
    "\n",
    "plt.plot(thresholds, acc_rates)\n",
    "plt.xlabel(\"Threshold score for positive (binary) sentiment polarity\")\n",
    "plt.ylabel(\"Accuracy Rate\")\n",
    "plt.title(\"Accuracy Rate Result as a Function\\n of Threshold for VADER Scores \\n\")\n",
    "plt.show()"
   ]
  },
  {
   "cell_type": "code",
   "execution_count": 23,
   "id": "6a0da403",
   "metadata": {},
   "outputs": [
    {
     "data": {
      "text/plain": [
       "-0.07507507507507505"
      ]
     },
     "execution_count": 23,
     "metadata": {},
     "output_type": "execute_result"
    }
   ],
   "source": [
    "thresholds[acc_rates.index(max(acc_rates))]"
   ]
  },
  {
   "cell_type": "code",
   "execution_count": 24,
   "id": "abe61018",
   "metadata": {},
   "outputs": [
    {
     "name": "stdout",
     "output_type": "stream",
     "text": [
      "Accuracy Rate: 0.894 \n",
      "\n"
     ]
    }
   ],
   "source": [
    "VADER_polarity = [analyze_sentiment_vader_lexicon(review, threshold= -0.075) for review in one_five_sample_reviews]\n",
    "VADER_polarity_df = pd.DataFrame(VADER_polarity, columns = ['VADER Polarity','VADER Score'])\n",
    "\n",
    "from sklearn import metrics\n",
    "print('Accuracy Rate:', np.round(metrics.accuracy_score(score_polarity, \n",
    "                                 VADER_polarity_df['VADER Polarity']), 3),\"\\n\")"
   ]
  },
  {
   "cell_type": "markdown",
   "id": "525541e2",
   "metadata": {},
   "source": [
    "### SVM "
   ]
  },
  {
   "cell_type": "code",
   "execution_count": 46,
   "id": "d1b996fa",
   "metadata": {},
   "outputs": [],
   "source": [
    "from sklearn.feature_extraction.text import TfidfVectorizer\n",
    "\n"
   ]
  },
  {
   "cell_type": "code",
   "execution_count": 26,
   "id": "f807aab5",
   "metadata": {},
   "outputs": [],
   "source": [
    "normalized_one_five_sample_reviews_train = normalize_corpus(one_five_sample_reviews_train)"
   ]
  },
  {
   "cell_type": "code",
   "execution_count": 27,
   "id": "3d6619a2",
   "metadata": {},
   "outputs": [],
   "source": [
    "vectorizer = TfidfVectorizer(ngram_range = (1,2)) \n",
    "feature_matrix_TRAIN = vectorizer.fit_transform(normalized_one_five_sample_reviews_train).astype(float)"
   ]
  },
  {
   "cell_type": "code",
   "execution_count": 28,
   "id": "f405ed9b",
   "metadata": {},
   "outputs": [
    {
     "data": {
      "text/html": [
       "<div>\n",
       "<style scoped>\n",
       "    .dataframe tbody tr th:only-of-type {\n",
       "        vertical-align: middle;\n",
       "    }\n",
       "\n",
       "    .dataframe tbody tr th {\n",
       "        vertical-align: top;\n",
       "    }\n",
       "\n",
       "    .dataframe thead th {\n",
       "        text-align: right;\n",
       "    }\n",
       "</style>\n",
       "<table border=\"1\" class=\"dataframe\">\n",
       "  <thead>\n",
       "    <tr style=\"text-align: right;\">\n",
       "      <th></th>\n",
       "      <th>00am</th>\n",
       "      <th>00am stomach</th>\n",
       "      <th>00pm</th>\n",
       "      <th>00pm though</th>\n",
       "      <th>00something</th>\n",
       "      <th>00something dollar</th>\n",
       "      <th>025968680a</th>\n",
       "      <th>07m2402</th>\n",
       "      <th>07m2402 july</th>\n",
       "      <th>07m2402 meaning</th>\n",
       "      <th>...</th>\n",
       "      <th>zuppa</th>\n",
       "      <th>zuppa inglese</th>\n",
       "      <th>zupreem</th>\n",
       "      <th>zupreem ball</th>\n",
       "      <th>zylitol</th>\n",
       "      <th>zylitol dentist</th>\n",
       "      <th>éste</th>\n",
       "      <th>éste producto</th>\n",
       "      <th>étouffé</th>\n",
       "      <th>étouffé lose</th>\n",
       "    </tr>\n",
       "  </thead>\n",
       "  <tbody>\n",
       "    <tr>\n",
       "      <th>0</th>\n",
       "      <td>0.0</td>\n",
       "      <td>0.0</td>\n",
       "      <td>0.0</td>\n",
       "      <td>0.0</td>\n",
       "      <td>0.0</td>\n",
       "      <td>0.0</td>\n",
       "      <td>0.0</td>\n",
       "      <td>0.0</td>\n",
       "      <td>0.0</td>\n",
       "      <td>0.0</td>\n",
       "      <td>...</td>\n",
       "      <td>0.0</td>\n",
       "      <td>0.0</td>\n",
       "      <td>0.0</td>\n",
       "      <td>0.0</td>\n",
       "      <td>0.0</td>\n",
       "      <td>0.0</td>\n",
       "      <td>0.0</td>\n",
       "      <td>0.0</td>\n",
       "      <td>0.0</td>\n",
       "      <td>0.0</td>\n",
       "    </tr>\n",
       "    <tr>\n",
       "      <th>1</th>\n",
       "      <td>0.0</td>\n",
       "      <td>0.0</td>\n",
       "      <td>0.0</td>\n",
       "      <td>0.0</td>\n",
       "      <td>0.0</td>\n",
       "      <td>0.0</td>\n",
       "      <td>0.0</td>\n",
       "      <td>0.0</td>\n",
       "      <td>0.0</td>\n",
       "      <td>0.0</td>\n",
       "      <td>...</td>\n",
       "      <td>0.0</td>\n",
       "      <td>0.0</td>\n",
       "      <td>0.0</td>\n",
       "      <td>0.0</td>\n",
       "      <td>0.0</td>\n",
       "      <td>0.0</td>\n",
       "      <td>0.0</td>\n",
       "      <td>0.0</td>\n",
       "      <td>0.0</td>\n",
       "      <td>0.0</td>\n",
       "    </tr>\n",
       "    <tr>\n",
       "      <th>2</th>\n",
       "      <td>0.0</td>\n",
       "      <td>0.0</td>\n",
       "      <td>0.0</td>\n",
       "      <td>0.0</td>\n",
       "      <td>0.0</td>\n",
       "      <td>0.0</td>\n",
       "      <td>0.0</td>\n",
       "      <td>0.0</td>\n",
       "      <td>0.0</td>\n",
       "      <td>0.0</td>\n",
       "      <td>...</td>\n",
       "      <td>0.0</td>\n",
       "      <td>0.0</td>\n",
       "      <td>0.0</td>\n",
       "      <td>0.0</td>\n",
       "      <td>0.0</td>\n",
       "      <td>0.0</td>\n",
       "      <td>0.0</td>\n",
       "      <td>0.0</td>\n",
       "      <td>0.0</td>\n",
       "      <td>0.0</td>\n",
       "    </tr>\n",
       "    <tr>\n",
       "      <th>3</th>\n",
       "      <td>0.0</td>\n",
       "      <td>0.0</td>\n",
       "      <td>0.0</td>\n",
       "      <td>0.0</td>\n",
       "      <td>0.0</td>\n",
       "      <td>0.0</td>\n",
       "      <td>0.0</td>\n",
       "      <td>0.0</td>\n",
       "      <td>0.0</td>\n",
       "      <td>0.0</td>\n",
       "      <td>...</td>\n",
       "      <td>0.0</td>\n",
       "      <td>0.0</td>\n",
       "      <td>0.0</td>\n",
       "      <td>0.0</td>\n",
       "      <td>0.0</td>\n",
       "      <td>0.0</td>\n",
       "      <td>0.0</td>\n",
       "      <td>0.0</td>\n",
       "      <td>0.0</td>\n",
       "      <td>0.0</td>\n",
       "    </tr>\n",
       "    <tr>\n",
       "      <th>4</th>\n",
       "      <td>0.0</td>\n",
       "      <td>0.0</td>\n",
       "      <td>0.0</td>\n",
       "      <td>0.0</td>\n",
       "      <td>0.0</td>\n",
       "      <td>0.0</td>\n",
       "      <td>0.0</td>\n",
       "      <td>0.0</td>\n",
       "      <td>0.0</td>\n",
       "      <td>0.0</td>\n",
       "      <td>...</td>\n",
       "      <td>0.0</td>\n",
       "      <td>0.0</td>\n",
       "      <td>0.0</td>\n",
       "      <td>0.0</td>\n",
       "      <td>0.0</td>\n",
       "      <td>0.0</td>\n",
       "      <td>0.0</td>\n",
       "      <td>0.0</td>\n",
       "      <td>0.0</td>\n",
       "      <td>0.0</td>\n",
       "    </tr>\n",
       "  </tbody>\n",
       "</table>\n",
       "<p>5 rows × 545469 columns</p>\n",
       "</div>"
      ],
      "text/plain": [
       "   00am  00am stomach  00pm  00pm though  00something  00something dollar  \\\n",
       "0   0.0           0.0   0.0          0.0          0.0                 0.0   \n",
       "1   0.0           0.0   0.0          0.0          0.0                 0.0   \n",
       "2   0.0           0.0   0.0          0.0          0.0                 0.0   \n",
       "3   0.0           0.0   0.0          0.0          0.0                 0.0   \n",
       "4   0.0           0.0   0.0          0.0          0.0                 0.0   \n",
       "\n",
       "   025968680a  07m2402  07m2402 july  07m2402 meaning  ...  zuppa  \\\n",
       "0         0.0      0.0           0.0              0.0  ...    0.0   \n",
       "1         0.0      0.0           0.0              0.0  ...    0.0   \n",
       "2         0.0      0.0           0.0              0.0  ...    0.0   \n",
       "3         0.0      0.0           0.0              0.0  ...    0.0   \n",
       "4         0.0      0.0           0.0              0.0  ...    0.0   \n",
       "\n",
       "   zuppa inglese  zupreem  zupreem ball  zylitol  zylitol dentist  éste  \\\n",
       "0            0.0      0.0           0.0      0.0              0.0   0.0   \n",
       "1            0.0      0.0           0.0      0.0              0.0   0.0   \n",
       "2            0.0      0.0           0.0      0.0              0.0   0.0   \n",
       "3            0.0      0.0           0.0      0.0              0.0   0.0   \n",
       "4            0.0      0.0           0.0      0.0              0.0   0.0   \n",
       "\n",
       "   éste producto  étouffé  étouffé lose  \n",
       "0            0.0      0.0           0.0  \n",
       "1            0.0      0.0           0.0  \n",
       "2            0.0      0.0           0.0  \n",
       "3            0.0      0.0           0.0  \n",
       "4            0.0      0.0           0.0  \n",
       "\n",
       "[5 rows x 545469 columns]"
      ]
     },
     "execution_count": 28,
     "metadata": {},
     "output_type": "execute_result"
    }
   ],
   "source": [
    "feature_matrix_TRAIN_names = vectorizer.get_feature_names() \n",
    "feature_matrix_TRAIN_table = pd.DataFrame(data = feature_matrix_TRAIN.todense(), \n",
    "                                          columns = feature_matrix_TRAIN_names)\n",
    "feature_matrix_TRAIN_table.head()"
   ]
  },
  {
   "cell_type": "code",
   "execution_count": 29,
   "id": "7c50864a",
   "metadata": {},
   "outputs": [],
   "source": [
    "feature_matrix_TEST = vectorizer.transform(normalized_one_five_sample_reviews)"
   ]
  },
  {
   "cell_type": "code",
   "execution_count": 54,
   "id": "e88ab5f3",
   "metadata": {},
   "outputs": [
    {
     "ename": "NameError",
     "evalue": "name 'feature_matrix_TRAIN' is not defined",
     "output_type": "error",
     "traceback": [
      "\u001b[0;31m---------------------------------------------------------------------------\u001b[0m",
      "\u001b[0;31mNameError\u001b[0m                                 Traceback (most recent call last)",
      "\u001b[0;32m<ipython-input-54-ccc83cfab9f4>\u001b[0m in \u001b[0;36m<module>\u001b[0;34m\u001b[0m\n\u001b[1;32m      2\u001b[0m \u001b[0;34m\u001b[0m\u001b[0m\n\u001b[1;32m      3\u001b[0m \u001b[0msvm\u001b[0m \u001b[0;34m=\u001b[0m \u001b[0mlinear_model\u001b[0m\u001b[0;34m.\u001b[0m\u001b[0mSGDClassifier\u001b[0m\u001b[0;34m(\u001b[0m\u001b[0mloss\u001b[0m\u001b[0;34m=\u001b[0m\u001b[0;34m'hinge'\u001b[0m\u001b[0;34m,\u001b[0m \u001b[0mrandom_state\u001b[0m \u001b[0;34m=\u001b[0m \u001b[0;36m0\u001b[0m\u001b[0;34m)\u001b[0m\u001b[0;34m\u001b[0m\u001b[0;34m\u001b[0m\u001b[0m\n\u001b[0;32m----> 4\u001b[0;31m \u001b[0msvm\u001b[0m\u001b[0;34m.\u001b[0m\u001b[0mfit\u001b[0m\u001b[0;34m(\u001b[0m\u001b[0mfeature_matrix_TRAIN\u001b[0m\u001b[0;34m,\u001b[0m \u001b[0mscore_polarity_train\u001b[0m\u001b[0;34m)\u001b[0m\u001b[0;34m\u001b[0m\u001b[0;34m\u001b[0m\u001b[0m\n\u001b[0m\u001b[1;32m      5\u001b[0m \u001b[0mpredicted_svm\u001b[0m \u001b[0;34m=\u001b[0m \u001b[0msvm\u001b[0m\u001b[0;34m.\u001b[0m\u001b[0mpredict\u001b[0m\u001b[0;34m(\u001b[0m\u001b[0mfeature_matrix_TEST\u001b[0m\u001b[0;34m)\u001b[0m\u001b[0;34m\u001b[0m\u001b[0;34m\u001b[0m\u001b[0m\n",
      "\u001b[0;31mNameError\u001b[0m: name 'feature_matrix_TRAIN' is not defined"
     ]
    }
   ],
   "source": [
    "from sklearn import linear_model\n",
    "\n",
    "svm = linear_model.SGDClassifier(loss='hinge', random_state = 0) \n",
    "svm.fit(feature_matrix_TRAIN, score_polarity_train)\n",
    "predicted_svm = svm.predict(feature_matrix_TEST)"
   ]
  },
  {
   "cell_type": "code",
   "execution_count": 31,
   "id": "a924959d",
   "metadata": {},
   "outputs": [
    {
     "name": "stdout",
     "output_type": "stream",
     "text": [
      "Accuracy rate: 0.932\n"
     ]
    }
   ],
   "source": [
    "print('Accuracy rate:', np.round(metrics.accuracy_score(score_polarity, predicted_svm), 3))"
   ]
  },
  {
   "cell_type": "markdown",
   "id": "aa7e2e32",
   "metadata": {},
   "source": [
    "### Export Data "
   ]
  },
  {
   "cell_type": "code",
   "execution_count": 51,
   "id": "ebf52d52",
   "metadata": {},
   "outputs": [],
   "source": [
    "one_five_sample['predict'] = predicted_svm\n",
    "result_one = one_five_sample[one_five_sample['Score'] == 1]\n",
    "result_one = result_one[result_one['predict'] == \"negative\"]\n",
    "\n",
    "result_five = one_five_sample[one_five_sample['Score'] == 5]\n",
    "result_five = result_five[result_five['predict'] == \"positive\"]\n",
    "\n",
    "result_one.to_csv('/Users/lilia/Desktop/21FL/Text Mining/archive/result_one.csv')\n",
    "result_five.to_csv('/Users/lilia/Desktop/21FL/Text Mining/archive/result_five.csv')\n",
    "\n"
   ]
  },
  {
   "cell_type": "markdown",
   "id": "e666282b",
   "metadata": {},
   "source": [
    "### Data Extraction ver 2 "
   ]
  },
  {
   "cell_type": "markdown",
   "id": "d4c98145",
   "metadata": {},
   "source": [
    "下面的部分在后续用不到，可以先无视"
   ]
  },
  {
   "cell_type": "code",
   "execution_count": 49,
   "id": "aac4c9b6",
   "metadata": {},
   "outputs": [],
   "source": [
    "#sample\n",
    "#train_reviews\n",
    "\n",
    "all_sample_reviews = sample['Text']\n",
    "all_score = sample['Score']\n",
    "normalized_all_sample_reviews = normalize_corpus(all_sample_reviews)\n",
    "\n",
    "all_sample_reviews_train = train_reviews['Text']\n",
    "all_score_train = train_reviews['Score']\n",
    "normalized_all_sample_reviews_train = normalize_corpus(all_sample_reviews_train)"
   ]
  },
  {
   "cell_type": "code",
   "execution_count": 50,
   "id": "03bbcc05",
   "metadata": {},
   "outputs": [],
   "source": [
    "normalized_all_sample_reviews = normalize_corpus(all_sample_reviews)"
   ]
  },
  {
   "cell_type": "markdown",
   "id": "dc095d27",
   "metadata": {},
   "source": [
    "### Lexicon ver 2 "
   ]
  },
  {
   "cell_type": "code",
   "execution_count": 118,
   "id": "766912b3",
   "metadata": {},
   "outputs": [
    {
     "data": {
      "text/html": [
       "<div>\n",
       "<style scoped>\n",
       "    .dataframe tbody tr th:only-of-type {\n",
       "        vertical-align: middle;\n",
       "    }\n",
       "\n",
       "    .dataframe tbody tr th {\n",
       "        vertical-align: top;\n",
       "    }\n",
       "\n",
       "    .dataframe thead th {\n",
       "        text-align: right;\n",
       "    }\n",
       "</style>\n",
       "<table border=\"1\" class=\"dataframe\">\n",
       "  <thead>\n",
       "    <tr style=\"text-align: right;\">\n",
       "      <th></th>\n",
       "      <th>VADER Polarity</th>\n",
       "      <th>VADER Score</th>\n",
       "    </tr>\n",
       "  </thead>\n",
       "  <tbody>\n",
       "    <tr>\n",
       "      <th>0</th>\n",
       "      <td>positive</td>\n",
       "      <td>0.9393</td>\n",
       "    </tr>\n",
       "    <tr>\n",
       "      <th>1</th>\n",
       "      <td>positive</td>\n",
       "      <td>0.4939</td>\n",
       "    </tr>\n",
       "    <tr>\n",
       "      <th>2</th>\n",
       "      <td>positive</td>\n",
       "      <td>0.6239</td>\n",
       "    </tr>\n",
       "    <tr>\n",
       "      <th>3</th>\n",
       "      <td>positive</td>\n",
       "      <td>0.9845</td>\n",
       "    </tr>\n",
       "    <tr>\n",
       "      <th>4</th>\n",
       "      <td>positive</td>\n",
       "      <td>0.7684</td>\n",
       "    </tr>\n",
       "  </tbody>\n",
       "</table>\n",
       "</div>"
      ],
      "text/plain": [
       "  VADER Polarity  VADER Score\n",
       "0       positive       0.9393\n",
       "1       positive       0.4939\n",
       "2       positive       0.6239\n",
       "3       positive       0.9845\n",
       "4       positive       0.7684"
      ]
     },
     "execution_count": 118,
     "metadata": {},
     "output_type": "execute_result"
    }
   ],
   "source": [
    "VADER_polarity_all = [analyze_sentiment_vader_lexicon(review, threshold=0.1) for review in all_sample_reviews]\n",
    "VADER_polarity_df_all = pd.DataFrame(VADER_polarity_all, columns = ['VADER Polarity','VADER Score'])\n",
    "VADER_polarity_df_all.head(5)"
   ]
  },
  {
   "cell_type": "code",
   "execution_count": 120,
   "id": "97462c6f",
   "metadata": {},
   "outputs": [
    {
     "data": {
      "text/plain": [
       "0.58412"
      ]
     },
     "execution_count": 120,
     "metadata": {},
     "output_type": "execute_result"
    }
   ],
   "source": [
    "a=[]\n",
    "for x in VADER_polarity_df_all['VADER Score']:\n",
    "    if x<-0.6:\n",
    "        y=1\n",
    "    elif -0.2>x>=-0.6:\n",
    "        y=2\n",
    "    elif 0.2>x>-0.2:\n",
    "        y=3\n",
    "    elif 0.6>x>=0.2:\n",
    "        y=4\n",
    "    else:\n",
    "        y=5\n",
    "    a.append(y)\n",
    "m = all_score\n",
    "n= m.tolist()\n",
    "acc = 0\n",
    "for i in range(len(a)):\n",
    "    if a[i] == n[i]:\n",
    "        acc = acc + 1\n",
    "\n",
    "acc / len(a)\n"
   ]
  },
  {
   "cell_type": "markdown",
   "id": "bf0c2ec0",
   "metadata": {},
   "source": [
    "### SVM ver 2 "
   ]
  },
  {
   "cell_type": "code",
   "execution_count": 51,
   "id": "f0fd6625",
   "metadata": {},
   "outputs": [
    {
     "data": {
      "text/html": [
       "<div>\n",
       "<style scoped>\n",
       "    .dataframe tbody tr th:only-of-type {\n",
       "        vertical-align: middle;\n",
       "    }\n",
       "\n",
       "    .dataframe tbody tr th {\n",
       "        vertical-align: top;\n",
       "    }\n",
       "\n",
       "    .dataframe thead th {\n",
       "        text-align: right;\n",
       "    }\n",
       "</style>\n",
       "<table border=\"1\" class=\"dataframe\">\n",
       "  <thead>\n",
       "    <tr style=\"text-align: right;\">\n",
       "      <th></th>\n",
       "      <th>000mg</th>\n",
       "      <th>000mg day</th>\n",
       "      <th>000mg taurine</th>\n",
       "      <th>00am</th>\n",
       "      <th>00am stomach</th>\n",
       "      <th>00pm</th>\n",
       "      <th>00pm barely</th>\n",
       "      <th>00pm though</th>\n",
       "      <th>00something</th>\n",
       "      <th>00something dollar</th>\n",
       "      <th>...</th>\n",
       "      <th>zupreem ball</th>\n",
       "      <th>zylitol</th>\n",
       "      <th>zylitol dentist</th>\n",
       "      <th>zylitor</th>\n",
       "      <th>zylitor splenda</th>\n",
       "      <th>zzzzzzz</th>\n",
       "      <th>éste</th>\n",
       "      <th>éste producto</th>\n",
       "      <th>étouffé</th>\n",
       "      <th>étouffé lose</th>\n",
       "    </tr>\n",
       "  </thead>\n",
       "  <tbody>\n",
       "    <tr>\n",
       "      <th>0</th>\n",
       "      <td>0.0</td>\n",
       "      <td>0.0</td>\n",
       "      <td>0.0</td>\n",
       "      <td>0.0</td>\n",
       "      <td>0.0</td>\n",
       "      <td>0.0</td>\n",
       "      <td>0.0</td>\n",
       "      <td>0.0</td>\n",
       "      <td>0.0</td>\n",
       "      <td>0.0</td>\n",
       "      <td>...</td>\n",
       "      <td>0.0</td>\n",
       "      <td>0.0</td>\n",
       "      <td>0.0</td>\n",
       "      <td>0.0</td>\n",
       "      <td>0.0</td>\n",
       "      <td>0.0</td>\n",
       "      <td>0.0</td>\n",
       "      <td>0.0</td>\n",
       "      <td>0.0</td>\n",
       "      <td>0.0</td>\n",
       "    </tr>\n",
       "    <tr>\n",
       "      <th>1</th>\n",
       "      <td>0.0</td>\n",
       "      <td>0.0</td>\n",
       "      <td>0.0</td>\n",
       "      <td>0.0</td>\n",
       "      <td>0.0</td>\n",
       "      <td>0.0</td>\n",
       "      <td>0.0</td>\n",
       "      <td>0.0</td>\n",
       "      <td>0.0</td>\n",
       "      <td>0.0</td>\n",
       "      <td>...</td>\n",
       "      <td>0.0</td>\n",
       "      <td>0.0</td>\n",
       "      <td>0.0</td>\n",
       "      <td>0.0</td>\n",
       "      <td>0.0</td>\n",
       "      <td>0.0</td>\n",
       "      <td>0.0</td>\n",
       "      <td>0.0</td>\n",
       "      <td>0.0</td>\n",
       "      <td>0.0</td>\n",
       "    </tr>\n",
       "    <tr>\n",
       "      <th>2</th>\n",
       "      <td>0.0</td>\n",
       "      <td>0.0</td>\n",
       "      <td>0.0</td>\n",
       "      <td>0.0</td>\n",
       "      <td>0.0</td>\n",
       "      <td>0.0</td>\n",
       "      <td>0.0</td>\n",
       "      <td>0.0</td>\n",
       "      <td>0.0</td>\n",
       "      <td>0.0</td>\n",
       "      <td>...</td>\n",
       "      <td>0.0</td>\n",
       "      <td>0.0</td>\n",
       "      <td>0.0</td>\n",
       "      <td>0.0</td>\n",
       "      <td>0.0</td>\n",
       "      <td>0.0</td>\n",
       "      <td>0.0</td>\n",
       "      <td>0.0</td>\n",
       "      <td>0.0</td>\n",
       "      <td>0.0</td>\n",
       "    </tr>\n",
       "    <tr>\n",
       "      <th>3</th>\n",
       "      <td>0.0</td>\n",
       "      <td>0.0</td>\n",
       "      <td>0.0</td>\n",
       "      <td>0.0</td>\n",
       "      <td>0.0</td>\n",
       "      <td>0.0</td>\n",
       "      <td>0.0</td>\n",
       "      <td>0.0</td>\n",
       "      <td>0.0</td>\n",
       "      <td>0.0</td>\n",
       "      <td>...</td>\n",
       "      <td>0.0</td>\n",
       "      <td>0.0</td>\n",
       "      <td>0.0</td>\n",
       "      <td>0.0</td>\n",
       "      <td>0.0</td>\n",
       "      <td>0.0</td>\n",
       "      <td>0.0</td>\n",
       "      <td>0.0</td>\n",
       "      <td>0.0</td>\n",
       "      <td>0.0</td>\n",
       "    </tr>\n",
       "    <tr>\n",
       "      <th>4</th>\n",
       "      <td>0.0</td>\n",
       "      <td>0.0</td>\n",
       "      <td>0.0</td>\n",
       "      <td>0.0</td>\n",
       "      <td>0.0</td>\n",
       "      <td>0.0</td>\n",
       "      <td>0.0</td>\n",
       "      <td>0.0</td>\n",
       "      <td>0.0</td>\n",
       "      <td>0.0</td>\n",
       "      <td>...</td>\n",
       "      <td>0.0</td>\n",
       "      <td>0.0</td>\n",
       "      <td>0.0</td>\n",
       "      <td>0.0</td>\n",
       "      <td>0.0</td>\n",
       "      <td>0.0</td>\n",
       "      <td>0.0</td>\n",
       "      <td>0.0</td>\n",
       "      <td>0.0</td>\n",
       "      <td>0.0</td>\n",
       "    </tr>\n",
       "  </tbody>\n",
       "</table>\n",
       "<p>5 rows × 736327 columns</p>\n",
       "</div>"
      ],
      "text/plain": [
       "   000mg  000mg day  000mg taurine  00am  00am stomach  00pm  00pm barely  \\\n",
       "0    0.0        0.0            0.0   0.0           0.0   0.0          0.0   \n",
       "1    0.0        0.0            0.0   0.0           0.0   0.0          0.0   \n",
       "2    0.0        0.0            0.0   0.0           0.0   0.0          0.0   \n",
       "3    0.0        0.0            0.0   0.0           0.0   0.0          0.0   \n",
       "4    0.0        0.0            0.0   0.0           0.0   0.0          0.0   \n",
       "\n",
       "   00pm though  00something  00something dollar  ...  zupreem ball  zylitol  \\\n",
       "0          0.0          0.0                 0.0  ...           0.0      0.0   \n",
       "1          0.0          0.0                 0.0  ...           0.0      0.0   \n",
       "2          0.0          0.0                 0.0  ...           0.0      0.0   \n",
       "3          0.0          0.0                 0.0  ...           0.0      0.0   \n",
       "4          0.0          0.0                 0.0  ...           0.0      0.0   \n",
       "\n",
       "   zylitol dentist  zylitor  zylitor splenda  zzzzzzz  éste  éste producto  \\\n",
       "0              0.0      0.0              0.0      0.0   0.0            0.0   \n",
       "1              0.0      0.0              0.0      0.0   0.0            0.0   \n",
       "2              0.0      0.0              0.0      0.0   0.0            0.0   \n",
       "3              0.0      0.0              0.0      0.0   0.0            0.0   \n",
       "4              0.0      0.0              0.0      0.0   0.0            0.0   \n",
       "\n",
       "   étouffé  étouffé lose  \n",
       "0      0.0           0.0  \n",
       "1      0.0           0.0  \n",
       "2      0.0           0.0  \n",
       "3      0.0           0.0  \n",
       "4      0.0           0.0  \n",
       "\n",
       "[5 rows x 736327 columns]"
      ]
     },
     "execution_count": 51,
     "metadata": {},
     "output_type": "execute_result"
    }
   ],
   "source": [
    "vectorizer = TfidfVectorizer(ngram_range = (1,2)) \n",
    "feature_matrix_TRAIN_2 = vectorizer.fit_transform(normalized_all_sample_reviews_train).astype(float)\n",
    "feature_matrix_TRAIN_names_2 = vectorizer.get_feature_names() \n",
    "feature_matrix_TRAIN_table_2 = pd.DataFrame(data = feature_matrix_TRAIN_2.todense(), \n",
    "                                          columns = feature_matrix_TRAIN_names_2)\n",
    "feature_matrix_TRAIN_table_2.head()"
   ]
  },
  {
   "cell_type": "code",
   "execution_count": 52,
   "id": "0d395457",
   "metadata": {},
   "outputs": [],
   "source": [
    "feature_matrix_TEST_2 = vectorizer.transform(normalized_all_sample_reviews)"
   ]
  },
  {
   "cell_type": "code",
   "execution_count": 62,
   "id": "6bc62326",
   "metadata": {},
   "outputs": [],
   "source": [
    "from sklearn import linear_model\n",
    "svm = linear_model.SGDClassifier(loss='hinge', random_state = 0) \n",
    "svm.fit(feature_matrix_TRAIN_2, all_score_train)\n",
    "predicted_svm = svm.predict(feature_matrix_TEST_2)"
   ]
  },
  {
   "cell_type": "code",
   "execution_count": 63,
   "id": "7f0e2599",
   "metadata": {},
   "outputs": [
    {
     "data": {
      "text/plain": [
       "0.7124"
      ]
     },
     "execution_count": 63,
     "metadata": {},
     "output_type": "execute_result"
    }
   ],
   "source": [
    "total2 = 0\n",
    "m = all_score\n",
    "n= m.tolist()  \n",
    "for i in range (len(predicted_svm)):\n",
    "    if predicted_svm[i] == n[i]:\n",
    "        total2 = total2+1;\n",
    "      \n",
    "total2/len(predicted_svm)"
   ]
  }
 ],
 "metadata": {
  "kernelspec": {
   "display_name": "Python 3",
   "language": "python",
   "name": "python3"
  },
  "language_info": {
   "codemirror_mode": {
    "name": "ipython",
    "version": 3
   },
   "file_extension": ".py",
   "mimetype": "text/x-python",
   "name": "python",
   "nbconvert_exporter": "python",
   "pygments_lexer": "ipython3",
   "version": "3.8.8"
  }
 },
 "nbformat": 4,
 "nbformat_minor": 5
}
